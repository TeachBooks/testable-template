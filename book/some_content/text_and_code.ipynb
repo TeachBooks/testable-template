{
 "cells": [
  {
   "cell_type": "markdown",
   "metadata": {},
   "source": [
    "# Text and code\n",
    "\n",
    "Lorem ipsum dolor sit amet, consectetur adipiscing elit, sed do eiusmod tempor incididunt ut labore et dolore magna aliqua. Ut enim ad minim veniam, quis nostrud exercitation ullamco laboris nisi ut aliquip ex ea commodo consequat. Duis aute irure dolor in reprehenderit in voluptate velit esse cillum dolore eu fugiat nulla pariatur. Excepteur sint occaecat cupidatat non proident, sunt in culpa qui officia deserunt mollit anim id est laborum.\n",
    "\n",
    "```{figure} ../figures/TUDelft_logo_rgb.png\n",
    "---\n",
    "align: rights\n",
    "---\n",
    "```\n",
    "\n",
    "```{figure} ../figures/TUDelft_logo_rgb.png\n",
    "---\n",
    "scale: 100%\n",
    "---\n",
    "\n",
    "| Type | M(1)  | M2     | M(2)   | M3     | M(3)   | R1     | R2     | R3     | R4     |\n",
    "|------|--------|--------|--------|--------|--------|--------|--------|--------|--------|\n",
    "| a    | 0.1562 | -0.1875| 0.1562 | || 0.3125 | 1.3750 | 0.3125 |        |        |        |\n",
    "| b    | 0.2031 | -0.0938| -0.0469||| 0.4062 | 0.6876 | -0.0938|        |        |        |\n",
    "| c    | 0.1750 | -0.1500| 0.1000 | -0.1500| 0.1750 | 0.3500 | 1.1500 | 1.1500 | 0.3500 |\n",
    "| d    | 0.2125 | -0.0750| -0.0750| -0.0750| 0.2125 | 0.4250 | 0.5750 | 0.5750 | 0.4250 |\n",
    "| e    | -0.0375| -0.0750| 0.1750 | -0.0750| -0.0375| -0.0750| 0.5750 | 0.5750 | -0.0750|\n",
    "| f    | 0.1625 | -0.0175| 0.1375 | -0.0500| -0.0250| 0.3250 | 1.3000 | 0.4250 | -0.0500|\n",
    "| g    | 0.2000 | -0.1000| -0.0375| 0.0250 | 0.0125 | 0.4000 | 0.7250 | -0.1500| 0.0250 |\n",
    "\n",
    "$M = factor * F * L$  \n",
    "$R = factor *x* F$\n",
    "\n",
    "The numbers in the tables are related to the concentrated loads working on the structure. The bending moments and support reactions in the designated points are found by multiplying the factors in the table with F x L or F.\n",
    "\n",
    "For example:\n",
    "- M(1) is the maximum bending in beam (1).\n",
    "- M3 is the hogging moment located at support 3.\n",
    "- R2 is the support reaction in support 2.\n",
    "\n",
    "For situation c:\n",
    "- F = 30 kN\n",
    "- L = 8 m\n",
    "\n",
    "The calculations are as follows:\n",
    "- M(1) = 0.175 x 30 x 8 kNm\n",
    "- M3 = -0.15 x 30 x 8 kNm\n",
    "- R2 = 1.15 x 30 kN"
   ]
  },
  {
   "cell_type": "code",
   "execution_count": 1,
   "metadata": {},
   "outputs": [
    {
     "name": "stdout",
     "output_type": "stream",
     "text": [
      "hello world\n"
     ]
    }
   ],
   "source": [
    "print('hello world')"
   ]
  }
 ],
 "metadata": {
  "kernelspec": {
   "display_name": "base",
   "language": "python",
   "name": "python3"
  },
  "language_info": {
   "codemirror_mode": {
    "name": "ipython",
    "version": 3
   },
   "file_extension": ".py",
   "mimetype": "text/x-python",
   "name": "python",
   "nbconvert_exporter": "python",
   "pygments_lexer": "ipython3",
   "version": "3.9.18"
  }
 },
 "nbformat": 4,
 "nbformat_minor": 2
}
